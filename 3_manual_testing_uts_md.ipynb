{
  "nbformat": 4,
  "nbformat_minor": 0,
  "metadata": {
    "colab": {
      "provenance": []
    },
    "kernelspec": {
      "name": "python3",
      "display_name": "Python 3"
    },
    "language_info": {
      "name": "python"
    }
  },
  "cells": [
    {
      "cell_type": "code",
      "execution_count": 4,
      "metadata": {
        "colab": {
          "base_uri": "https://localhost:8080/"
        },
        "id": "QyQ3ucerNfpW",
        "outputId": "b2ad63b1-79e0-4dfc-a208-a87cc253f617"
      },
      "outputs": [
        {
          "output_type": "stream",
          "name": "stdout",
          "text": [
            "❌ Ditolak\n"
          ]
        }
      ],
      "source": [
        "import pickle\n",
        "import pandas as pd\n",
        "from sklearn.preprocessing import StandardScaler\n",
        "\n",
        "with open(\"best_model.pkl\", \"rb\") as f:\n",
        "    model = pickle.load(f)\n",
        "\n",
        "with open(\"scaler.pkl\", \"rb\") as f:\n",
        "    # Assuming the scaler is the first element of the tuple\n",
        "    scaler, _ = pickle.load(f)  # Unpack the tuple, assign scaler, ignore the rest (_)\n",
        "    # If the scaler is not the first element, adjust the index accordingly.\n",
        "    # For example, if it's the second element:  _, scaler = pickle.load(f)\n",
        "\n",
        "user_input = {\n",
        "    'person_age': 24,\n",
        "    'person_income': 30000,\n",
        "    'person_emp_exp': 2,\n",
        "    'loan_amnt': 15000,\n",
        "    'loan_int_rate': 20.0,\n",
        "    'loan_percent_income': 0.5,\n",
        "    'cb_person_cred_hist_length': 2,\n",
        "    'credit_score': 580,\n",
        "    'person_gender_male': 0,  # Assuming 'person_gender_male' maps to 'person_gender_Male' or 'person_gender_fe male'\n",
        "    'person_education_High School': 1,\n",
        "    'person_education_Master': 0,\n",
        "    'person_home_ownership_OWN': 0,\n",
        "    'person_home_ownership_RENT': 1,\n",
        "    'loan_intent_EDUCATION': 0,\n",
        "    'loan_intent_MEDICAL': 0,\n",
        "    'loan_intent_PERSONAL': 0,\n",
        "    'loan_intent_VENTURE': 1,\n",
        "    'previous_loan_defaults_on_file_Yes': 1,\n",
        "    # Add missing columns with default values (0 in this case)\n",
        "    'person_education_Associate': 0,\n",
        "    'person_education_Bachelor': 0,\n",
        "    'person_education_Doctorate': 0,\n",
        "    # ... add other missing columns similarly ...\n",
        "}\n",
        "\n",
        "# Get the expected column order from the scaler\n",
        "expected_columns = scaler.get_feature_names_out()\n",
        "\n",
        "df_input = pd.DataFrame([user_input])\n",
        "# Reorder columns to match the expected order\n",
        "df_input = df_input.reindex(columns=expected_columns, fill_value=0)\n",
        "\n",
        "scaled_input = scaler.transform(df_input)\n",
        "\n",
        "prediction = model.predict(scaled_input)[0]\n",
        "print(\"✅ Disetujui\" if prediction == 1 else \"❌ Ditolak\")"
      ]
    }
  ]
}